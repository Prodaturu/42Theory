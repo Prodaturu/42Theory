{
 "cells": [
  {
   "cell_type": "markdown",
   "metadata": {},
   "source": [
    "# Makefiles"
   ]
  },
  {
   "cell_type": "markdown",
   "metadata": {},
   "source": [
    "## Variables and uses"
   ]
  },
  {
   "cell_type": "markdown",
   "metadata": {},
   "source": [
    "Let's say we have a `VAR_A` variable that holds info about the C files we want to compile and `CC` stores the compiler we want to use:\n",
    "\n",
    "```makefile\n",
    "CC\t= cc\n",
    "VAR_A\t= file1.c file2.c src/file3.c src2/file4.c\n",
    "$(CC) $(VAR_A)\n",
    "```\n",
    "\n",
    "\\$(CC) \\$(VAR_A):-<br><br>\n",
    "\t. $() executes whatever is within brackets as a shell command <br>\n",
    "\t. This make it run \"cc file1.c file2.c src/file3.c src2/file4.c\" as a shell script <br>\n",
    "\t. In turn, compiling all the files in the VAR_A variable <br>"
   ]
  },
  {
   "cell_type": "markdown",
   "metadata": {},
   "source": [
    "## Compiling using wildcards\n",
    "\n",
    "@ -> everything before \":\" <br>\n",
    "^ -> everything after \":\""
   ]
  },
  {
   "cell_type": "code",
   "execution_count": null,
   "metadata": {},
   "outputs": [],
   "source": [
    "%%writefile somefile.c\n",
    "\n",
    "# Just checking how to write C in ipynb\n",
    "#include <stdio.h>\n",
    "\n",
    "int main() {\n",
    "\tprintf(\"Hello, World!\\n\");\n",
    "\treturn 0;\n",
    "}"
   ]
  },
  {
   "cell_type": "code",
   "execution_count": null,
   "metadata": {},
   "outputs": [],
   "source": []
  }
 ],
 "metadata": {
  "kernelspec": {
   "display_name": "Python 3",
   "language": "python",
   "name": "python3"
  },
  "language_info": {
   "name": "python",
   "version": "3.12.2"
  }
 },
 "nbformat": 4,
 "nbformat_minor": 2
}
