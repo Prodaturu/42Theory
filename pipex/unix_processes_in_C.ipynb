{
 "cells": [
  {
   "cell_type": "code",
   "execution_count": null,
   "metadata": {},
   "outputs": [],
   "source": [
    "%%writefile forks.c\n",
    "\n",
    "int main() {\n",
    "\tfork();\n",
    "\tprintf(\"Hello, World!\\n\");\n",
    "\treturn 0;\n",
    "}"
   ]
  },
  {
   "cell_type": "markdown",
   "metadata": {},
   "source": [
    "#### fork():\n",
    "\n",
    "- In <unistd.h>\n",
    "- Creates a child process and executes the lines following the fork() command\n",
    "- So the output would be like \"Hello, World!\\nHello, World!\\n\""
   ]
  },
  {
   "cell_type": "code",
   "execution_count": null,
   "metadata": {},
   "outputs": [],
   "source": [
    "%%writefile forks_id.c\n",
    "\n",
    "int main(int argc, char *argv[]) {\n",
    "\tint id = fork();\n",
    "\tif (id == 0) {\n",
    "\t\tprintf(\"Hello from id = %d\\n\", id);\n",
    "\treturn 0;\n",
    "}\n",
    "\n",
    "# gcc forks.c -o forks\n",
    "# output:\n",
    "# \n",
    "# Hello from id = 1234\n",
    "# Hello from id = 0"
   ]
  },
  {
   "cell_type": "markdown",
   "metadata": {},
   "source": [
    "The id of the child process created by the fork is set to 0;"
   ]
  },
  {
   "cell_type": "markdown",
   "metadata": {},
   "source": [
    "%%writefile forks_number.c\n",
    "\n",
    "int main(int argc, char *argv)\n",
    "{\n",
    "\tfork();\n",
    "}"
   ]
  },
  {
   "cell_type": "code",
   "execution_count": null,
   "metadata": {},
   "outputs": [],
   "source": [
    "%%writefile child_processes.c\n",
    "\n",
    "/**\n",
    " * This program demonstrates the use of fork() system call to create child processes.\n",
    " * It creates a child process using fork() and then prints \"Hello from <id>\" for a total of n+5 times.\n",
    " * The value of n is initially set to 6, but if the process is a child process (id == 0), n is set to 0.\n",
    " * The parent process waits for the child process to complete using wait() system call.\n",
    " */\n",
    "\n",
    "#include <stdio.h>\n",
    "#include <stdlib.h>\n",
    "#include <sys/types.h>\n",
    "#include <sys/wait.h>\n",
    "#include <unistd.h>\n",
    "\n",
    "int main (int argc, char *argv[]) {\n",
    "\tint id = fork();\n",
    "\tint n = 6;\n",
    "\tif (id == 0)\n",
    "\t\tn = 0;\n",
    "\tif (id != 0)\n",
    "\t\twait();\n",
    "\t\n",
    "\tint i;\n",
    "\tfor (i = 0; i < n+5; i++){\n",
    "\t\tprintf(\"Hello from %d\\n\", id);\n",
    "\t\tfflush(stdout);\n",
    "\t}\n",
    "\tif (id != 0)\n",
    "\t\tprintf(\"\\n\");\n",
    "\treturn 0;\n",
    "}"
   ]
  }
 ],
 "metadata": {
  "language_info": {
   "name": "python"
  }
 },
 "nbformat": 4,
 "nbformat_minor": 2
}
